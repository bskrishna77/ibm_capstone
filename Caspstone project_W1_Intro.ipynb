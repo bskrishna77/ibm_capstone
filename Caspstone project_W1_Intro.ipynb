{
 "cells": [
  {
   "cell_type": "markdown",
   "metadata": {},
   "source": [
    "# Capstone Project - The Battle of the Neighborhoods (Week 1)\n"
   ]
  },
  {
   "cell_type": "markdown",
   "metadata": {},
   "source": [
    "## Table of contents\n",
    "* [Introduction: Business Problem](#introduction)\n",
    "* [Data](#data)"
   ]
  },
  {
   "cell_type": "markdown",
   "metadata": {},
   "source": [
    "\n",
    "## Introduction:  <a name=\"introduction\"></a>"
   ]
  },
  {
   "cell_type": "markdown",
   "metadata": {},
   "source": [
    "As part of Capstone project I would like to explore the ATMs (Automatic Teller Machines) in the city of **New York**. This project is useful for **Wells Fargo** Bank to deploy the ATM machine in an optimized area.\n",
    "\n",
    "This project can be extended to explore the USA as well. By this project the bank can decide on ATM removal or shifting to other places where it can be used effectively. By leveraging the ATM transaction data the bank can better optimize cash replenishment in the ATMs. This project will also be useful for Wells Fargo in reducing cost by deciding on which ATM to visit first and which one to go next rather than visiting every ATM whenever it runs out of cash."
   ]
  }
 ],
 "metadata": {
  "kernelspec": {
   "display_name": "Python 3",
   "language": "python",
   "name": "python3"
  },
  "language_info": {
   "codemirror_mode": {
    "name": "ipython",
    "version": 3
   },
   "file_extension": ".py",
   "mimetype": "text/x-python",
   "name": "python",
   "nbconvert_exporter": "python",
   "pygments_lexer": "ipython3",
   "version": "3.7.2"
  }
 },
 "nbformat": 4,
 "nbformat_minor": 2
}
